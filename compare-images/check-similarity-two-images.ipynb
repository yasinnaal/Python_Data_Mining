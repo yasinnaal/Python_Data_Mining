{
 "cells": [
  {
   "cell_type": "code",
   "execution_count": 1,
   "id": "e067305c",
   "metadata": {
    "execution": {
     "iopub.execute_input": "2023-06-16T12:48:44.193120Z",
     "iopub.status.busy": "2023-06-16T12:48:44.192403Z",
     "iopub.status.idle": "2023-06-16T12:48:44.309158Z",
     "shell.execute_reply": "2023-06-16T12:48:44.307850Z"
    },
    "papermill": {
     "duration": 0.124561,
     "end_time": "2023-06-16T12:48:44.312147",
     "exception": false,
     "start_time": "2023-06-16T12:48:44.187586",
     "status": "completed"
    },
    "tags": []
   },
   "outputs": [
    {
     "name": "stdout",
     "output_type": "stream",
     "text": [
      "image1 average hash value: fffff704808390fe\n",
      "image2 average hash value: fffff704808390fe\n",
      "MATCH -images are similar.\n"
     ]
    }
   ],
   "source": [
    "from PIL import Image\n",
    "import imagehash\n",
    "hash1 = imagehash.average_hash(Image.open('/kaggle/input/myimages/bike.jpg')) \n",
    "hash2 = imagehash.average_hash(Image.open('/kaggle/input/myimages/bike.jpg')) \n",
    "cutoff = 5\n",
    "\n",
    "if hash1 - hash2 < cutoff:\n",
    "  print('image1 average hash value:', hash1)\n",
    "  print('image2 average hash value:', hash2)  \n",
    "  print('MATCH -images are similar.')\n",
    "  \n",
    "else:\n",
    "  print('image1 average hash value:', hash1)\n",
    "  print('image2 average hash value:', hash2)    \n",
    "  print('NO MATCH - images are not similar !.')"
   ]
  },
  {
   "cell_type": "code",
   "execution_count": 2,
   "id": "42331958",
   "metadata": {
    "execution": {
     "iopub.execute_input": "2023-06-16T12:48:44.320116Z",
     "iopub.status.busy": "2023-06-16T12:48:44.318893Z",
     "iopub.status.idle": "2023-06-16T12:48:44.356651Z",
     "shell.execute_reply": "2023-06-16T12:48:44.355048Z"
    },
    "papermill": {
     "duration": 0.044644,
     "end_time": "2023-06-16T12:48:44.359633",
     "exception": false,
     "start_time": "2023-06-16T12:48:44.314989",
     "status": "completed"
    },
    "tags": []
   },
   "outputs": [
    {
     "name": "stdout",
     "output_type": "stream",
     "text": [
      "image1 average hash value: 00189c1e1fb4e080\n",
      "image2 average hash value: fffff704808390fe\n",
      "NO MATCH - images are not similar !.\n"
     ]
    }
   ],
   "source": [
    "from PIL import Image\n",
    "import imagehash\n",
    "hash1 = imagehash.average_hash(Image.open('/kaggle/input/myimages/panda.jpg')) \n",
    "hash2 = imagehash.average_hash(Image.open('/kaggle/input/myimages/bike.jpg')) \n",
    "cutoff = 5\n",
    "\n",
    "if hash1 - hash2 < cutoff:\n",
    "  print(hash1)\n",
    "  print(hash2)\n",
    "  print('MATCH -images are similar.')\n",
    "else:\n",
    "  print('image1 average hash value:', hash1)\n",
    "  print('image2 average hash value:', hash2)    \n",
    "  print('NO MATCH - images are not similar !.')"
   ]
  },
  {
   "cell_type": "code",
   "execution_count": 3,
   "id": "a9ae0cc5",
   "metadata": {
    "execution": {
     "iopub.execute_input": "2023-06-16T12:48:44.366923Z",
     "iopub.status.busy": "2023-06-16T12:48:44.366434Z",
     "iopub.status.idle": "2023-06-16T12:48:44.393297Z",
     "shell.execute_reply": "2023-06-16T12:48:44.391660Z"
    },
    "papermill": {
     "duration": 0.033917,
     "end_time": "2023-06-16T12:48:44.396270",
     "exception": false,
     "start_time": "2023-06-16T12:48:44.362353",
     "status": "completed"
    },
    "tags": []
   },
   "outputs": [
    {
     "name": "stdout",
     "output_type": "stream",
     "text": [
      "00189c1e1fb4e080\n",
      "00189c1e1fb4e080\n",
      "MATCH -images are similar.\n"
     ]
    }
   ],
   "source": [
    "from PIL import Image\n",
    "import imagehash\n",
    "hash1 = imagehash.average_hash(Image.open('/kaggle/input/myimages/panda.jpg')) \n",
    "hash2 = imagehash.average_hash(Image.open('/kaggle/input/myimages/panda.jpg')) \n",
    "cutoff = 5\n",
    "\n",
    "if hash1 - hash2 < cutoff:\n",
    "  print(hash1)\n",
    "  print(hash2)\n",
    "  print('MATCH -images are similar.')\n",
    "else:\n",
    "  print('image1 average hash value:', hash1)\n",
    "  print('image2 average hash value:', hash2)    \n",
    "  print('NO MATCH - images are not similar !.')"
   ]
  }
 ],
 "metadata": {
  "kernelspec": {
   "display_name": "Python 3",
   "language": "python",
   "name": "python3"
  },
  "language_info": {
   "codemirror_mode": {
    "name": "ipython",
    "version": 3
   },
   "file_extension": ".py",
   "mimetype": "text/x-python",
   "name": "python",
   "nbconvert_exporter": "python",
   "pygments_lexer": "ipython3",
   "version": "3.10.10"
  },
  "papermill": {
   "default_parameters": {},
   "duration": 14.131804,
   "end_time": "2023-06-16T12:48:45.322496",
   "environment_variables": {},
   "exception": null,
   "input_path": "__notebook__.ipynb",
   "output_path": "__notebook__.ipynb",
   "parameters": {},
   "start_time": "2023-06-16T12:48:31.190692",
   "version": "2.4.0"
  }
 },
 "nbformat": 4,
 "nbformat_minor": 5
}
